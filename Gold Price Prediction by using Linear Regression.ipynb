{
 "cells": [
  {
   "cell_type": "code",
   "execution_count": 1,
   "metadata": {
    "collapsed": true
   },
   "outputs": [],
   "source": [
    "import pandas as pd\n",
    "import numpy as np\n",
    "import matplotlib.pyplot as plt\n",
    "import numpy as np\n",
    "import tensorflow as tf\n",
    "from sklearn import datasets\n",
    "from tensorflow.python.framework import ops"
   ]
  },
  {
   "cell_type": "code",
   "execution_count": 2,
   "metadata": {},
   "outputs": [
    {
     "data": {
      "text/html": [
       "<div>\n",
       "<style>\n",
       "    .dataframe thead tr:only-child th {\n",
       "        text-align: right;\n",
       "    }\n",
       "\n",
       "    .dataframe thead th {\n",
       "        text-align: left;\n",
       "    }\n",
       "\n",
       "    .dataframe tbody tr th {\n",
       "        vertical-align: top;\n",
       "    }\n",
       "</style>\n",
       "<table border=\"1\" class=\"dataframe\">\n",
       "  <thead>\n",
       "    <tr style=\"text-align: right;\">\n",
       "      <th></th>\n",
       "      <th>Year</th>\n",
       "      <th>Price</th>\n",
       "    </tr>\n",
       "  </thead>\n",
       "  <tbody>\n",
       "    <tr>\n",
       "      <th>0</th>\n",
       "      <td>1964</td>\n",
       "      <td>63.25</td>\n",
       "    </tr>\n",
       "    <tr>\n",
       "      <th>1</th>\n",
       "      <td>1965</td>\n",
       "      <td>71.75</td>\n",
       "    </tr>\n",
       "    <tr>\n",
       "      <th>2</th>\n",
       "      <td>1966</td>\n",
       "      <td>83.75</td>\n",
       "    </tr>\n",
       "    <tr>\n",
       "      <th>3</th>\n",
       "      <td>1967</td>\n",
       "      <td>102.50</td>\n",
       "    </tr>\n",
       "    <tr>\n",
       "      <th>4</th>\n",
       "      <td>1968</td>\n",
       "      <td>162.00</td>\n",
       "    </tr>\n",
       "  </tbody>\n",
       "</table>\n",
       "</div>"
      ],
      "text/plain": [
       "   Year   Price\n",
       "0  1964   63.25\n",
       "1  1965   71.75\n",
       "2  1966   83.75\n",
       "3  1967  102.50\n",
       "4  1968  162.00"
      ]
     },
     "execution_count": 2,
     "metadata": {},
     "output_type": "execute_result"
    }
   ],
   "source": [
    "data = pd.read_excel('goldprice.xlsx')\n",
    "data.head()"
   ]
  },
  {
   "cell_type": "code",
   "execution_count": 3,
   "metadata": {
    "collapsed": true
   },
   "outputs": [],
   "source": [
    "databck = data"
   ]
  },
  {
   "cell_type": "code",
   "execution_count": 4,
   "metadata": {
    "collapsed": true
   },
   "outputs": [],
   "source": [
    "# temp = lambda colmn: colmn[3:]"
   ]
  },
  {
   "cell_type": "code",
   "execution_count": 5,
   "metadata": {
    "collapsed": true
   },
   "outputs": [],
   "source": [
    "# data['Price']= [temp(i) for i in data['Price']]\n"
   ]
  },
  {
   "cell_type": "code",
   "execution_count": 6,
   "metadata": {},
   "outputs": [
    {
     "data": {
      "text/html": [
       "<div>\n",
       "<style>\n",
       "    .dataframe thead tr:only-child th {\n",
       "        text-align: right;\n",
       "    }\n",
       "\n",
       "    .dataframe thead th {\n",
       "        text-align: left;\n",
       "    }\n",
       "\n",
       "    .dataframe tbody tr th {\n",
       "        vertical-align: top;\n",
       "    }\n",
       "</style>\n",
       "<table border=\"1\" class=\"dataframe\">\n",
       "  <thead>\n",
       "    <tr style=\"text-align: right;\">\n",
       "      <th></th>\n",
       "      <th>Year</th>\n",
       "      <th>Price</th>\n",
       "    </tr>\n",
       "  </thead>\n",
       "  <tbody>\n",
       "    <tr>\n",
       "      <th>0</th>\n",
       "      <td>1964</td>\n",
       "      <td>63.25</td>\n",
       "    </tr>\n",
       "    <tr>\n",
       "      <th>1</th>\n",
       "      <td>1965</td>\n",
       "      <td>71.75</td>\n",
       "    </tr>\n",
       "    <tr>\n",
       "      <th>2</th>\n",
       "      <td>1966</td>\n",
       "      <td>83.75</td>\n",
       "    </tr>\n",
       "    <tr>\n",
       "      <th>3</th>\n",
       "      <td>1967</td>\n",
       "      <td>102.50</td>\n",
       "    </tr>\n",
       "    <tr>\n",
       "      <th>4</th>\n",
       "      <td>1968</td>\n",
       "      <td>162.00</td>\n",
       "    </tr>\n",
       "  </tbody>\n",
       "</table>\n",
       "</div>"
      ],
      "text/plain": [
       "   Year   Price\n",
       "0  1964   63.25\n",
       "1  1965   71.75\n",
       "2  1966   83.75\n",
       "3  1967  102.50\n",
       "4  1968  162.00"
      ]
     },
     "execution_count": 6,
     "metadata": {},
     "output_type": "execute_result"
    }
   ],
   "source": [
    "data.head()"
   ]
  },
  {
   "cell_type": "code",
   "execution_count": 7,
   "metadata": {},
   "outputs": [
    {
     "data": {
      "text/plain": [
       "numpy.float64"
      ]
     },
     "execution_count": 7,
     "metadata": {},
     "output_type": "execute_result"
    }
   ],
   "source": [
    "type(data['Price'][0])"
   ]
  },
  {
   "cell_type": "code",
   "execution_count": 8,
   "metadata": {
    "collapsed": true
   },
   "outputs": [],
   "source": [
    "test = data"
   ]
  },
  {
   "cell_type": "code",
   "execution_count": 9,
   "metadata": {
    "collapsed": true
   },
   "outputs": [],
   "source": [
    "abc = pd.to_numeric(test['Price'], errors='ignore')\n",
    "cdf = pd.to_numeric(test['Year'], errors='ignore')\n",
    "price_data = pd.DataFrame(cdf)\n",
    "price_data['Price'] = abc"
   ]
  },
  {
   "cell_type": "code",
   "execution_count": 10,
   "metadata": {},
   "outputs": [
    {
     "data": {
      "text/html": [
       "<div>\n",
       "<style>\n",
       "    .dataframe thead tr:only-child th {\n",
       "        text-align: right;\n",
       "    }\n",
       "\n",
       "    .dataframe thead th {\n",
       "        text-align: left;\n",
       "    }\n",
       "\n",
       "    .dataframe tbody tr th {\n",
       "        vertical-align: top;\n",
       "    }\n",
       "</style>\n",
       "<table border=\"1\" class=\"dataframe\">\n",
       "  <thead>\n",
       "    <tr style=\"text-align: right;\">\n",
       "      <th></th>\n",
       "      <th>Year</th>\n",
       "      <th>Price</th>\n",
       "    </tr>\n",
       "  </thead>\n",
       "  <tbody>\n",
       "    <tr>\n",
       "      <th>0</th>\n",
       "      <td>1964</td>\n",
       "      <td>63.25</td>\n",
       "    </tr>\n",
       "    <tr>\n",
       "      <th>1</th>\n",
       "      <td>1965</td>\n",
       "      <td>71.75</td>\n",
       "    </tr>\n",
       "    <tr>\n",
       "      <th>2</th>\n",
       "      <td>1966</td>\n",
       "      <td>83.75</td>\n",
       "    </tr>\n",
       "    <tr>\n",
       "      <th>3</th>\n",
       "      <td>1967</td>\n",
       "      <td>102.50</td>\n",
       "    </tr>\n",
       "    <tr>\n",
       "      <th>4</th>\n",
       "      <td>1968</td>\n",
       "      <td>162.00</td>\n",
       "    </tr>\n",
       "  </tbody>\n",
       "</table>\n",
       "</div>"
      ],
      "text/plain": [
       "   Year   Price\n",
       "0  1964   63.25\n",
       "1  1965   71.75\n",
       "2  1966   83.75\n",
       "3  1967  102.50\n",
       "4  1968  162.00"
      ]
     },
     "execution_count": 10,
     "metadata": {},
     "output_type": "execute_result"
    }
   ],
   "source": [
    "price_data.head()"
   ]
  },
  {
   "cell_type": "code",
   "execution_count": 11,
   "metadata": {
    "collapsed": true
   },
   "outputs": [],
   "source": [
    "#Reset graph, useful\n",
    "ops.reset_default_graph()\n",
    "\n",
    "# Create graph\n",
    "sess = tf.Session()"
   ]
  },
  {
   "cell_type": "code",
   "execution_count": 12,
   "metadata": {
    "collapsed": true
   },
   "outputs": [],
   "source": [
    "y_vals = np.array(data['Price'])"
   ]
  },
  {
   "cell_type": "code",
   "execution_count": 13,
   "metadata": {},
   "outputs": [
    {
     "data": {
      "text/plain": [
       "array([    63.25,     71.75,     83.75,    102.5 ,    162.  ,    176.  ,\n",
       "          184.  ,    193.  ,    202.  ,    278.5 ,    506.  ,    540.  ,\n",
       "          432.  ,    486.  ,    685.  ,    937.  ,   1330.  ,   1800.  ,\n",
       "         1645.  ,   1800.  ,   1970.  ,   2130.  ,   2140.  ,   2570.  ,\n",
       "         3130.  ,   3140.  ,   3200.  ,   3466.  ,   4334.  ,   4140.  ,\n",
       "         4598.  ,   4680.  ,   5160.  ,   4725.  ,   4045.  ,   4234.  ,\n",
       "         4400.  ,   4300.  ,   4990.  ,   5600.  ,   5850.  ,   7000.  ,\n",
       "         8400.  ,  10800.  ,  12500.  ,  14500.  ,  18500.  ,  26400.  ,\n",
       "        31050.  ,  29600.  ,  28006.5 ,  26343.5 ,  28623.5 ])"
      ]
     },
     "execution_count": 13,
     "metadata": {},
     "output_type": "execute_result"
    }
   ],
   "source": [
    "y_vals"
   ]
  },
  {
   "cell_type": "code",
   "execution_count": 14,
   "metadata": {
    "collapsed": true
   },
   "outputs": [],
   "source": [
    "x_vals = np.array(data['Year'])"
   ]
  },
  {
   "cell_type": "code",
   "execution_count": 15,
   "metadata": {},
   "outputs": [
    {
     "data": {
      "text/plain": [
       "array([1964, 1965, 1966, 1967, 1968, 1969, 1970, 1971, 1972, 1973, 1974,\n",
       "       1975, 1976, 1977, 1978, 1979, 1980, 1981, 1982, 1983, 1984, 1985,\n",
       "       1986, 1987, 1988, 1989, 1990, 1991, 1992, 1993, 1994, 1995, 1996,\n",
       "       1997, 1998, 1999, 2000, 2001, 2002, 2003, 2004, 2005, 2006, 2007,\n",
       "       2008, 2009, 2010, 2011, 2012, 2013, 2014, 2015, 2016], dtype=int64)"
      ]
     },
     "execution_count": 15,
     "metadata": {},
     "output_type": "execute_result"
    }
   ],
   "source": [
    "x_vals"
   ]
  },
  {
   "cell_type": "code",
   "execution_count": 59,
   "metadata": {
    "collapsed": true
   },
   "outputs": [],
   "source": [
    "batch_size = 25"
   ]
  },
  {
   "cell_type": "code",
   "execution_count": 60,
   "metadata": {
    "collapsed": true
   },
   "outputs": [],
   "source": [
    "\n",
    "\n",
    "# Initialize placeholders\n",
    "x_data = tf.placeholder(shape=[None, 1], dtype=tf.float32)\n",
    "y_target = tf.placeholder(shape=[None, 1], dtype=tf.float32)\n",
    "\n",
    "#shape(rows,cols)"
   ]
  },
  {
   "cell_type": "code",
   "execution_count": 61,
   "metadata": {
    "collapsed": true
   },
   "outputs": [],
   "source": [
    "# Create variables for linear regression, some default values\n",
    "A = tf.Variable(tf.random_normal(shape=[1,1]))\n",
    "b = tf.Variable(tf.random_normal(shape=[1,1]))\n"
   ]
  },
  {
   "cell_type": "code",
   "execution_count": 62,
   "metadata": {},
   "outputs": [],
   "source": [
    "model_output = tf.add(tf.matmul(x_data, A), b)\n",
    "# similar to a.x+b"
   ]
  },
  {
   "cell_type": "code",
   "execution_count": 63,
   "metadata": {
    "collapsed": true
   },
   "outputs": [],
   "source": [
    "# Declare loss function (L2 loss)\n",
    "loss = tf.reduce_mean(tf.square(y_target - model_output))"
   ]
  },
  {
   "cell_type": "code",
   "execution_count": 64,
   "metadata": {
    "collapsed": true
   },
   "outputs": [],
   "source": [
    "# Initialize variables\n",
    "init = tf.global_variables_initializer()\n",
    "sess.run(init)"
   ]
  },
  {
   "cell_type": "code",
   "execution_count": 75,
   "metadata": {
    "collapsed": true
   },
   "outputs": [],
   "source": [
    "#we have calculated loss function till now, lets go for its mizimization by using Optmizers, we will opt GradientDescentOptimizer\n",
    "#0.05 learning rate\n",
    "my_opt = tf.train.GradientDescentOptimizer(0.000005)"
   ]
  },
  {
   "cell_type": "code",
   "execution_count": 76,
   "metadata": {
    "collapsed": true
   },
   "outputs": [],
   "source": [
    "train_step = my_opt.minimize(loss)"
   ]
  },
  {
   "cell_type": "code",
   "execution_count": 79,
   "metadata": {},
   "outputs": [
    {
     "name": "stdout",
     "output_type": "stream",
     "text": [
      "Step #10 A = [[ nan]] b = [[ nan]]\n",
      "Loss = nan\n",
      "Step #20 A = [[ nan]] b = [[ nan]]\n",
      "Loss = nan\n",
      "Step #30 A = [[ nan]] b = [[ nan]]\n",
      "Loss = nan\n",
      "Step #40 A = [[ nan]] b = [[ nan]]\n",
      "Loss = nan\n",
      "Step #50 A = [[ nan]] b = [[ nan]]\n",
      "Loss = nan\n",
      "Step #60 A = [[ nan]] b = [[ nan]]\n",
      "Loss = nan\n",
      "Step #70 A = [[ nan]] b = [[ nan]]\n",
      "Loss = nan\n",
      "Step #80 A = [[ nan]] b = [[ nan]]\n",
      "Loss = nan\n",
      "Step #90 A = [[ nan]] b = [[ nan]]\n",
      "Loss = nan\n",
      "Step #100 A = [[ nan]] b = [[ nan]]\n",
      "Loss = nan\n",
      "Step #110 A = [[ nan]] b = [[ nan]]\n",
      "Loss = nan\n",
      "Step #120 A = [[ nan]] b = [[ nan]]\n",
      "Loss = nan\n",
      "Step #130 A = [[ nan]] b = [[ nan]]\n",
      "Loss = nan\n",
      "Step #140 A = [[ nan]] b = [[ nan]]\n",
      "Loss = nan\n",
      "Step #150 A = [[ nan]] b = [[ nan]]\n",
      "Loss = nan\n",
      "Step #160 A = [[ nan]] b = [[ nan]]\n",
      "Loss = nan\n",
      "Step #170 A = [[ nan]] b = [[ nan]]\n",
      "Loss = nan\n",
      "Step #180 A = [[ nan]] b = [[ nan]]\n",
      "Loss = nan\n",
      "Step #190 A = [[ nan]] b = [[ nan]]\n",
      "Loss = nan\n",
      "Step #200 A = [[ nan]] b = [[ nan]]\n",
      "Loss = nan\n",
      "Step #210 A = [[ nan]] b = [[ nan]]\n",
      "Loss = nan\n",
      "Step #220 A = [[ nan]] b = [[ nan]]\n",
      "Loss = nan\n",
      "Step #230 A = [[ nan]] b = [[ nan]]\n",
      "Loss = nan\n",
      "Step #240 A = [[ nan]] b = [[ nan]]\n",
      "Loss = nan\n",
      "Step #250 A = [[ nan]] b = [[ nan]]\n",
      "Loss = nan\n",
      "Step #260 A = [[ nan]] b = [[ nan]]\n",
      "Loss = nan\n",
      "Step #270 A = [[ nan]] b = [[ nan]]\n",
      "Loss = nan\n",
      "Step #280 A = [[ nan]] b = [[ nan]]\n",
      "Loss = nan\n",
      "Step #290 A = [[ nan]] b = [[ nan]]\n",
      "Loss = nan\n",
      "Step #300 A = [[ nan]] b = [[ nan]]\n",
      "Loss = nan\n",
      "Step #310 A = [[ nan]] b = [[ nan]]\n",
      "Loss = nan\n",
      "Step #320 A = [[ nan]] b = [[ nan]]\n",
      "Loss = nan\n",
      "Step #330 A = [[ nan]] b = [[ nan]]\n",
      "Loss = nan\n",
      "Step #340 A = [[ nan]] b = [[ nan]]\n",
      "Loss = nan\n",
      "Step #350 A = [[ nan]] b = [[ nan]]\n",
      "Loss = nan\n",
      "Step #360 A = [[ nan]] b = [[ nan]]\n",
      "Loss = nan\n",
      "Step #370 A = [[ nan]] b = [[ nan]]\n",
      "Loss = nan\n",
      "Step #380 A = [[ nan]] b = [[ nan]]\n",
      "Loss = nan\n",
      "Step #390 A = [[ nan]] b = [[ nan]]\n",
      "Loss = nan\n",
      "Step #400 A = [[ nan]] b = [[ nan]]\n",
      "Loss = nan\n",
      "Step #410 A = [[ nan]] b = [[ nan]]\n",
      "Loss = nan\n",
      "Step #420 A = [[ nan]] b = [[ nan]]\n",
      "Loss = nan\n",
      "Step #430 A = [[ nan]] b = [[ nan]]\n",
      "Loss = nan\n",
      "Step #440 A = [[ nan]] b = [[ nan]]\n",
      "Loss = nan\n",
      "Step #450 A = [[ nan]] b = [[ nan]]\n",
      "Loss = nan\n",
      "Step #460 A = [[ nan]] b = [[ nan]]\n",
      "Loss = nan\n",
      "Step #470 A = [[ nan]] b = [[ nan]]\n",
      "Loss = nan\n",
      "Step #480 A = [[ nan]] b = [[ nan]]\n",
      "Loss = nan\n",
      "Step #490 A = [[ nan]] b = [[ nan]]\n",
      "Loss = nan\n",
      "Step #500 A = [[ nan]] b = [[ nan]]\n",
      "Loss = nan\n",
      "Step #510 A = [[ nan]] b = [[ nan]]\n",
      "Loss = nan\n",
      "Step #520 A = [[ nan]] b = [[ nan]]\n",
      "Loss = nan\n",
      "Step #530 A = [[ nan]] b = [[ nan]]\n",
      "Loss = nan\n",
      "Step #540 A = [[ nan]] b = [[ nan]]\n",
      "Loss = nan\n",
      "Step #550 A = [[ nan]] b = [[ nan]]\n",
      "Loss = nan\n",
      "Step #560 A = [[ nan]] b = [[ nan]]\n",
      "Loss = nan\n",
      "Step #570 A = [[ nan]] b = [[ nan]]\n",
      "Loss = nan\n",
      "Step #580 A = [[ nan]] b = [[ nan]]\n",
      "Loss = nan\n",
      "Step #590 A = [[ nan]] b = [[ nan]]\n",
      "Loss = nan\n",
      "Step #600 A = [[ nan]] b = [[ nan]]\n",
      "Loss = nan\n",
      "Step #610 A = [[ nan]] b = [[ nan]]\n",
      "Loss = nan\n",
      "Step #620 A = [[ nan]] b = [[ nan]]\n",
      "Loss = nan\n",
      "Step #630 A = [[ nan]] b = [[ nan]]\n",
      "Loss = nan\n",
      "Step #640 A = [[ nan]] b = [[ nan]]\n",
      "Loss = nan\n",
      "Step #650 A = [[ nan]] b = [[ nan]]\n",
      "Loss = nan\n",
      "Step #660 A = [[ nan]] b = [[ nan]]\n",
      "Loss = nan\n",
      "Step #670 A = [[ nan]] b = [[ nan]]\n",
      "Loss = nan\n",
      "Step #680 A = [[ nan]] b = [[ nan]]\n",
      "Loss = nan\n",
      "Step #690 A = [[ nan]] b = [[ nan]]\n",
      "Loss = nan\n",
      "Step #700 A = [[ nan]] b = [[ nan]]\n",
      "Loss = nan\n",
      "Step #710 A = [[ nan]] b = [[ nan]]\n",
      "Loss = nan\n",
      "Step #720 A = [[ nan]] b = [[ nan]]\n",
      "Loss = nan\n",
      "Step #730 A = [[ nan]] b = [[ nan]]\n",
      "Loss = nan\n",
      "Step #740 A = [[ nan]] b = [[ nan]]\n",
      "Loss = nan\n",
      "Step #750 A = [[ nan]] b = [[ nan]]\n",
      "Loss = nan\n",
      "Step #760 A = [[ nan]] b = [[ nan]]\n",
      "Loss = nan\n",
      "Step #770 A = [[ nan]] b = [[ nan]]\n",
      "Loss = nan\n",
      "Step #780 A = [[ nan]] b = [[ nan]]\n",
      "Loss = nan\n",
      "Step #790 A = [[ nan]] b = [[ nan]]\n",
      "Loss = nan\n",
      "Step #800 A = [[ nan]] b = [[ nan]]\n",
      "Loss = nan\n",
      "Step #810 A = [[ nan]] b = [[ nan]]\n",
      "Loss = nan\n",
      "Step #820 A = [[ nan]] b = [[ nan]]\n",
      "Loss = nan\n",
      "Step #830 A = [[ nan]] b = [[ nan]]\n",
      "Loss = nan\n",
      "Step #840 A = [[ nan]] b = [[ nan]]\n",
      "Loss = nan\n",
      "Step #850 A = [[ nan]] b = [[ nan]]\n",
      "Loss = nan\n",
      "Step #860 A = [[ nan]] b = [[ nan]]\n",
      "Loss = nan\n",
      "Step #870 A = [[ nan]] b = [[ nan]]\n",
      "Loss = nan\n",
      "Step #880 A = [[ nan]] b = [[ nan]]\n",
      "Loss = nan\n",
      "Step #890 A = [[ nan]] b = [[ nan]]\n",
      "Loss = nan\n",
      "Step #900 A = [[ nan]] b = [[ nan]]\n",
      "Loss = nan\n",
      "Step #910 A = [[ nan]] b = [[ nan]]\n",
      "Loss = nan\n",
      "Step #920 A = [[ nan]] b = [[ nan]]\n",
      "Loss = nan\n",
      "Step #930 A = [[ nan]] b = [[ nan]]\n",
      "Loss = nan\n",
      "Step #940 A = [[ nan]] b = [[ nan]]\n",
      "Loss = nan\n",
      "Step #950 A = [[ nan]] b = [[ nan]]\n",
      "Loss = nan\n",
      "Step #960 A = [[ nan]] b = [[ nan]]\n",
      "Loss = nan\n",
      "Step #970 A = [[ nan]] b = [[ nan]]\n",
      "Loss = nan\n",
      "Step #980 A = [[ nan]] b = [[ nan]]\n",
      "Loss = nan\n",
      "Step #990 A = [[ nan]] b = [[ nan]]\n",
      "Loss = nan\n",
      "Step #1000 A = [[ nan]] b = [[ nan]]\n",
      "Loss = nan\n"
     ]
    }
   ],
   "source": [
    "\n",
    "# Training loop\n",
    "loss_vec = []\n",
    "for i in range(1000):\n",
    "    rand_index = np.random.choice(len(x_vals), size=batch_size) \n",
    "    #it will take any random 25 numbers from len(x_vals) at each iteration, we do this to get our model trained with robust env\n",
    "    \n",
    "    rand_x = np.transpose([x_vals[rand_index]])\n",
    "    rand_y = np.transpose([y_vals[rand_index]])\n",
    "    sess.run(train_step, feed_dict={x_data: rand_x, y_target: rand_y})\n",
    "    temp_loss = sess.run(loss, feed_dict={x_data: rand_x, y_target: rand_y})\n",
    "    loss_vec.append(temp_loss)\n",
    "    if (i+1)%10==0:\n",
    "        print('Step #' + str(i+1) + ' A = ' + str(sess.run(A)) + ' b = ' + str(sess.run(b)))\n",
    "        print('Loss = ' + str(temp_loss))\n"
   ]
  },
  {
   "cell_type": "code",
   "execution_count": 45,
   "metadata": {},
   "outputs": [
    {
     "data": {
      "text/plain": [
       "53"
      ]
     },
     "execution_count": 45,
     "metadata": {},
     "output_type": "execute_result"
    }
   ],
   "source": [
    "len(x_vals)"
   ]
  },
  {
   "cell_type": "code",
   "execution_count": 46,
   "metadata": {
    "collapsed": true
   },
   "outputs": [],
   "source": [
    "# rand_y"
   ]
  },
  {
   "cell_type": "code",
   "execution_count": 47,
   "metadata": {
    "collapsed": true
   },
   "outputs": [],
   "source": [
    "#Get Optimal coefficients\n",
    "[slope] = sess.run(A)\n",
    "[y_intercept] = sess.run(b)"
   ]
  },
  {
   "cell_type": "code",
   "execution_count": 48,
   "metadata": {},
   "outputs": [
    {
     "data": {
      "text/plain": [
       "array([ nan], dtype=float32)"
      ]
     },
     "execution_count": 48,
     "metadata": {},
     "output_type": "execute_result"
    }
   ],
   "source": [
    "slope"
   ]
  },
  {
   "cell_type": "code",
   "execution_count": 49,
   "metadata": {},
   "outputs": [
    {
     "data": {
      "text/plain": [
       "array([ nan], dtype=float32)"
      ]
     },
     "execution_count": 49,
     "metadata": {},
     "output_type": "execute_result"
    }
   ],
   "source": [
    "y_intercept\n"
   ]
  },
  {
   "cell_type": "code",
   "execution_count": 50,
   "metadata": {},
   "outputs": [
    {
     "data": {
      "image/png": "[encoded data removed]",
      "text/plain": [
       "<matplotlib.figure.Figure at 0x98a0e48>"
      ]
     },
     "metadata": {},
     "output_type": "display_data"
    },
    {
     "data": {
      "image/png": "[encoded data removed]",
      "text/plain": [
       "<matplotlib.figure.Figure at 0x990f4e0>"
      ]
     },
     "metadata": {},
     "output_type": "display_data"
    }
   ],
   "source": [
    "# Get best fit line\n",
    "best_fit = []\n",
    "for i in x_vals:\n",
    "  best_fit.append(slope*i+y_intercept)\n",
    "\n",
    "# Plot the result\n",
    "plt.plot(x_vals, y_vals, 'o', label='Data Points')\n",
    "plt.plot(x_vals, best_fit, 'r-', label='Best fit line', linewidth=5)\n",
    "plt.legend(loc='upper left')\n",
    "plt.title('Year vs Gold Price')\n",
    "plt.xlabel('Year')\n",
    "plt.ylabel('Price')\n",
    "plt.show()\n",
    "\n",
    "# Plot loss over time\n",
    "plt.plot(loss_vec, 'k-')\n",
    "plt.title('L2 Loss per Generation')\n",
    "plt.xlabel('Generation')\n",
    "plt.ylabel('L2 Loss')\n",
    "plt.show()"
   ]
  },
  {
   "cell_type": "code",
   "execution_count": null,
   "metadata": {
    "collapsed": true
   },
   "outputs": [],
   "source": []
  }
 ],
 "metadata": {
  "kernelspec": {
   "display_name": "Python 3",
   "language": "python",
   "name": "python3"
  },
  "language_info": {
   "codemirror_mode": {
    "name": "ipython",
    "version": 3
   },
   "file_extension": ".py",
   "mimetype": "text/x-python",
   "name": "python",
   "nbconvert_exporter": "python",
   "pygments_lexer": "ipython3",
   "version": "3.6.1"
  }
 },
 "nbformat": 4,
 "nbformat_minor": 2
}
