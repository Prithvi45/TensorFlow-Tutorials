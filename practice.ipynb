{
 "cells": [
  {
   "cell_type": "code",
   "execution_count": 4,
   "metadata": {
    "collapsed": true
   },
   "outputs": [],
   "source": [
    "import tensorflow as tf"
   ]
  },
  {
   "cell_type": "code",
   "execution_count": 6,
   "metadata": {
    "collapsed": true
   },
   "outputs": [],
   "source": [
    "a = tf.constant(3,name='a_input')\n",
    "b = tf.constant(5,name='b_input')"
   ]
  },
  {
   "cell_type": "code",
   "execution_count": 8,
   "metadata": {
    "collapsed": true
   },
   "outputs": [],
   "source": [
    "c = tf.multiply(a,b,name='a_mul_b')\n",
    "d = tf.add(a,b, name='a_add_b') "
   ]
  },
  {
   "cell_type": "code",
   "execution_count": 10,
   "metadata": {
    "collapsed": true
   },
   "outputs": [],
   "source": [
    "e=tf.add(c,d,name='output')"
   ]
  },
  {
   "cell_type": "code",
   "execution_count": 16,
   "metadata": {},
   "outputs": [
    {
     "data": {
      "text/plain": [
       "23"
      ]
     },
     "execution_count": 16,
     "metadata": {},
     "output_type": "execute_result"
    }
   ],
   "source": [
    "sess = tf.Session() \n",
    "sess.run(e)\n",
    "sess.run(e)"
   ]
  },
  {
   "cell_type": "code",
   "execution_count": 38,
   "metadata": {},
   "outputs": [],
   "source": [
    "x = tf.placeholder(dtype='int32',name='x_input')\n",
    "y = tf.placeholder(dtype='int32',name='y_input')\n",
    "c = tf.multiply(x,y, name='x_mul_y')\n",
    "d = tf.add(x,y, name='x_add_y')\n",
    "e = tf.multiply(c,d, name='c_mul_d')\n"
   ]
  },
  {
   "cell_type": "code",
   "execution_count": 47,
   "metadata": {},
   "outputs": [],
   "source": [
    "sess = tf.Session()\n",
    "feed_dict = {x:5,y:3}\n",
    "sess.run(c, feed_dict)\n",
    "sess.run(d, feed_dict)\n",
    "e_var = sess.run(e, feed_dict)\n",
    "e_var1 = sess.run(e,{x:2,y:2})\n",
    "e_var2 = sess.run(e,{x:e_var, y:e_var1})"
   ]
  },
  {
   "cell_type": "code",
   "execution_count": 48,
   "metadata": {},
   "outputs": [
    {
     "name": "stdout",
     "output_type": "stream",
     "text": [
      "120\n",
      "16\n",
      "261120\n"
     ]
    }
   ],
   "source": [
    "print(e_var)\n",
    "print(e_var1)\n",
    "print(e_var2)"
   ]
  }
 ],
 "metadata": {
  "kernelspec": {
   "display_name": "Python 3",
   "language": "python",
   "name": "python3"
  },
  "language_info": {
   "codemirror_mode": {
    "name": "ipython",
    "version": 3
   },
   "file_extension": ".py",
   "mimetype": "text/x-python",
   "name": "python",
   "nbconvert_exporter": "python",
   "pygments_lexer": "ipython3",
   "version": "3.6.1"
  }
 },
 "nbformat": 4,
 "nbformat_minor": 2
}
